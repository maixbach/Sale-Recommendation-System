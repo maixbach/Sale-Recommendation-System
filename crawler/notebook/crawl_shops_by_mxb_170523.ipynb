{
 "cells": [
  {
   "attachments": {},
   "cell_type": "markdown",
   "metadata": {},
   "source": [
    "# Imports"
   ]
  },
  {
   "cell_type": "code",
   "execution_count": 1,
   "metadata": {},
   "outputs": [],
   "source": [
    "import selenium\n",
    "import pandas as pd\n",
    "from time import sleep\n",
    "from selenium import webdriver\n",
    "from selenium.webdriver.common.keys import Keys\n",
    "from selenium.webdriver.common.by import By\n",
    "#import numpy as np\n",
    "import csv"
   ]
  },
  {
   "cell_type": "code",
   "execution_count": 2,
   "metadata": {},
   "outputs": [],
   "source": [
    "import json\n",
    "import os.path as osp\n",
    "import platform\n",
    "import time\n",
    "import re\n",
    "\n",
    "from bs4 import BeautifulSoup\n",
    "from selenium import webdriver\n",
    "from selenium.webdriver.chrome.options import Options\n",
    "from selenium.webdriver.common.by import By\n",
    "from selenium.webdriver.common.keys import Keys\n",
    "from selenium.webdriver.support import expected_conditions as EC\n",
    "from selenium.webdriver.support.ui import WebDriverWait\n",
    "from webdriver_manager.chrome import ChromeDriverManager\n",
    "from selenium.webdriver.common.proxy import Proxy, ProxyType"
   ]
  },
  {
   "attachments": {},
   "cell_type": "markdown",
   "metadata": {},
   "source": [
    "# Browser"
   ]
  },
  {
   "cell_type": "code",
   "execution_count": 3,
   "metadata": {},
   "outputs": [],
   "source": [
    "browser = webdriver.Chrome(executable_path=\"chromedriver\")\n",
    "browser.maximize_window()\n",
    "sleep(1)"
   ]
  },
  {
   "attachments": {},
   "cell_type": "markdown",
   "metadata": {},
   "source": [
    "# Extract shop information function"
   ]
  },
  {
   "cell_type": "code",
   "execution_count": 29,
   "metadata": {},
   "outputs": [],
   "source": [
    "def extract_shop_info_mxb(shop_link):\n",
    "    browser.get(shop_link)\n",
    "    sleep(5) # slow to sign in\n",
    "    \n",
    "    # scroll all page by Chiu\n",
    "    total_height = int(browser.execute_script(\"return document.body.scrollHeight\"))\n",
    "    for i in range(1, total_height, 100):\n",
    "        browser.execute_script(\"window.scrollTo(0, {});\".format(i))\n",
    "    \n",
    "    # parse html doc by Chiu\n",
    "    soup = BeautifulSoup(browser.page_source, \"html.parser\")\n",
    "\n",
    "    # initialize a dictionary to store information of products\n",
    "    shop_info = {\n",
    "            \"rating\": 0, # int (1 - 5)\n",
    "            \"num rating\": \"\", # Number of rating (int)\n",
    "            \"quantity of products\": 0, # \n",
    "            \"response rate\": 0, # float  (%)\n",
    "            \"response time\": \"\", # str: (trong vai gio) \n",
    "            \"followers\" : -1, # Number of followers (int)\n",
    "            \"vouchers\": -1, # Number of vouchers (int)\n",
    "            \"mall\": -1, # 0 / 1: 0 for no, 1 for yes\n",
    "            \"cancel order rate\": 0, # -1 for N/A, otherwise rate (0 - 1)\n",
    "        }\n",
    "    \n",
    "    seller_overview_section = soup.find_all(\"div\", {\"class\": \"section-seller-overview__item-text-value\"}) \n",
    "\n",
    "    # extract quantity of products\n",
    "    quantity_products_label = seller_overview_section[0].text\n",
    "    if quantity_products_label[-1] == \"r\": # tr (million)\n",
    "        quantity_products_label = int(float(seller_overview_section[0].text[:-2].replace(\",\", \".\")) * 1000000)\n",
    "    elif quantity_products_label[-1] == \"k\": # k (thousand)\n",
    "        quantity_products_label = int(float(seller_overview_section[0].text[:-1].replace(\",\", \".\")) * 1000)\n",
    "    else:\n",
    "        quantity_products_label = int(seller_overview_section[0].text)\n",
    "    shop_info[\"quantity of products\"] = quantity_products_label\n",
    "\n",
    "    # extract number of followers\n",
    "    number_of_followers_label = seller_overview_section[1].text\n",
    "    if number_of_followers_label[-1] == \"r\": # tr (million)\n",
    "        number_of_followers_label = int(float(seller_overview_section[1].text[:-2].replace(\",\", \".\")) * 1000000)\n",
    "    elif number_of_followers_label[-1] == \"k\": # k (thousand)\n",
    "        number_of_followers_label = int(float(seller_overview_section[1].text[:-1].replace(\",\", \".\")) * 1000)\n",
    "    else:\n",
    "        number_of_followers_label = int(seller_overview_section[1].text)\n",
    "    shop_info[\"followers\"] = number_of_followers_label\n",
    "\n",
    "    # extract rating\n",
    "    rating_label = float(seller_overview_section[3].text.split()[0])\n",
    "    shop_info[\"rating\"] = rating_label\n",
    "\n",
    "    # extract number of rating\n",
    "    number_of_rating_label = seller_overview_section[3].text.split()[1][1:]\n",
    "    if number_of_rating_label[-1] == \"r\": # tr (million)\n",
    "        number_of_rating_label = int(float(seller_overview_section[3].text.split()[1][1:-2].replace(\",\", \".\")) * 1000000)\n",
    "    elif number_of_rating_label[-1] == \"k\": # k (thousand)\n",
    "        number_of_rating_label = int(float(seller_overview_section[3].text.split()[1][1:-1].replace(\",\", \".\")) * 1000)\n",
    "    else:\n",
    "        number_of_rating_label = int(seller_overview_section[3].text.split()[1][1:])\n",
    "        \n",
    "    shop_info[\"num rating\"] = number_of_rating_label\n",
    "\n",
    "    # extract response rate\n",
    "    response_rate_label = float(seller_overview_section[4].text.split()[0][:-1]) / 100\n",
    "    shop_info[\"response rate\"] = response_rate_label\n",
    "\n",
    "    # extract response time\n",
    "    response_time_label = seller_overview_section[4].text.split(\"%\")[1:][0].strip()\n",
    "    shop_info[\"response time\"] = response_time_label\n",
    "    \n",
    "    # extract number of vouchers\n",
    "    try:\n",
    "        vouchers_label = soup.find(\"div\", {\"class\" : \"shop-page__vouchers\"})\n",
    "        num_of_vouchers = len(vouchers_label.find_all(\"li\", {\"class\" : \"image-carousel__item\"}))\n",
    "    except:\n",
    "        num_of_vouchers = 0\n",
    "    shop_info[\"vouchers\"] = num_of_vouchers\n",
    "\n",
    "    # extract mall or not\n",
    "    try:\n",
    "        mall_label = soup.find(\"div\", {\"class\" : \"official-shop-new-badge\"})\n",
    "        if mall_label:\n",
    "            mall_label = 1\n",
    "    except:\n",
    "        mall_label = 0\n",
    "    shop_info[\"mall\"] = mall_label\n",
    "\n",
    "    # extract cancel orders rate\n",
    "    try:\n",
    "        cancel_orders_rate_label = seller_overview_section[6].text\n",
    "        if cancel_orders_rate_label:\n",
    "            cancel_orders_rate_label = float(cancel_orders_rate_label[:-1].replace(\",\", \".\")) / 100\n",
    "    except:\n",
    "        cancel_orders_rate_label = -1\n",
    "    shop_info[\"cancel order rate\"] = cancel_orders_rate_label\n",
    "\n",
    "    return shop_info\n"
   ]
  },
  {
   "cell_type": "code",
   "execution_count": 23,
   "metadata": {},
   "outputs": [],
   "source": [
    "test_links = \\\n",
    "[\"https://shopee.vn/candlesvn\", \n",
    " \"https://shopee.vn/coolmate.vn\",\n",
    " \"https://shopee.vn/larley.store\", \n",
    " \"https://shopee.vn/aromastory.official\",\n",
    " \"https://shopee.vn/apple_flagship_store\",\n",
    " \"https://shopee.vn/xiaozhainv.vn\",\n",
    " \"https://shopee.vn/banhran2020\"\n",
    "]\n",
    "# 1: Shopee Mall: Candles (clothes)\n",
    "# 2: Shopee Mall: Coolmate (Clothes)\n",
    "# 3: Shopee: Larley store (clothes)\n",
    "# 4: Shopee: Aromastory (Candles & Aroma)\n",
    "# 5: Shopee Mall: Apple Flagship Store\n",
    "# 6: Shopee Mall: Shop Taobao (Clothes)\n",
    "# 7: Shopee: Bán khẩu trang"
   ]
  },
  {
   "cell_type": "code",
   "execution_count": 30,
   "metadata": {},
   "outputs": [
    {
     "name": "stdout",
     "output_type": "stream",
     "text": [
      "Product 1\n",
      "{'rating': 4.9, 'num rating': 8000, 'quantity of products': 113, 'response rate': 1.0, 'response time': '(trong vài giờ)', 'followers': 55400, 'vouchers': 1, 'mall': 1, 'cancel order rate': -1}\n",
      "\n",
      "\n",
      "Product 2\n",
      "{'rating': 4.9, 'num rating': 337800, 'quantity of products': 485, 'response rate': 0.97, 'response time': '(trong vài giờ)', 'followers': 1100000, 'vouchers': 3, 'mall': 1, 'cancel order rate': -1}\n",
      "\n",
      "\n",
      "Product 3\n",
      "{'rating': 4.8, 'num rating': 16900, 'quantity of products': 37, 'response rate': 0.96, 'response time': '(trong vài giờ)', 'followers': 45000, 'vouchers': 1, 'mall': None, 'cancel order rate': -1}\n",
      "\n",
      "\n",
      "Product 4\n",
      "{'rating': 4.9, 'num rating': 5500, 'quantity of products': 142, 'response rate': 0.98, 'response time': '(trong vài giờ)', 'followers': 20000, 'vouchers': 1, 'mall': None, 'cancel order rate': -1}\n",
      "\n",
      "\n",
      "Product 5\n",
      "{'rating': 4.9, 'num rating': 45300, 'quantity of products': 309, 'response rate': 0.96, 'response time': '(trong vài giờ)', 'followers': 513100, 'vouchers': 0, 'mall': 1, 'cancel order rate': -1}\n",
      "\n",
      "\n",
      "Product 6\n",
      "{'rating': 4.8, 'num rating': 715900, 'quantity of products': 6400, 'response rate': 1.0, 'response time': '(trong vài phút)', 'followers': 3000000, 'vouchers': 4, 'mall': 1, 'cancel order rate': 0.01}\n",
      "\n",
      "\n",
      "Product 7\n",
      "{'rating': 4.8, 'num rating': 18900, 'quantity of products': 41, 'response rate': 0.9, 'response time': '(trong vài giờ)', 'followers': 16900, 'vouchers': 0, 'mall': None, 'cancel order rate': 0.01}\n",
      "\n",
      "\n"
     ]
    }
   ],
   "source": [
    "for i, link in enumerate(test_links):\n",
    "    print(\"Product {}\".format(i + 1))\n",
    "    print(extract_shop_info_mxb(link))\n",
    "    print(\"\\n\")"
   ]
  }
 ],
 "metadata": {
  "kernelspec": {
   "display_name": "Python 3",
   "language": "python",
   "name": "python3"
  },
  "language_info": {
   "codemirror_mode": {
    "name": "ipython",
    "version": 3
   },
   "file_extension": ".py",
   "mimetype": "text/x-python",
   "name": "python",
   "nbconvert_exporter": "python",
   "pygments_lexer": "ipython3",
   "version": "3.9.7"
  },
  "orig_nbformat": 4
 },
 "nbformat": 4,
 "nbformat_minor": 2
}
